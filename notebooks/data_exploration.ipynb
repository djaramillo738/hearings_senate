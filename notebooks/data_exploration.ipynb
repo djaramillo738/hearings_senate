{
 "cells": [
  {
   "cell_type": "code",
   "execution_count": 1,
   "metadata": {
    "collapsed": true
   },
   "outputs": [],
   "source": [
    "import re"
   ]
  },
  {
   "cell_type": "code",
   "execution_count": 2,
   "metadata": {
    "collapsed": true
   },
   "outputs": [],
   "source": [
    "def get_witnesses(text):\n",
    "    lower_text = text.lower()\n",
    "    try:\n",
    "        text_block=text[lower_text.find('witnesses\\n'):]\n",
    "        titles=re.findall('[A-Z]+?\\n', text_block)\n",
    "        title_cut=titles[1]\n",
    "        text_cut=text[:text.find(title_cut)]\n",
    "\n",
    "        witnesses=text_cut.split('...')\n",
    "        witnesses=witnesses[:-1]\n",
    "        witnesses=[x for x in witnesses if len(x.strip())>0]\n",
    "        return witnesses\n",
    "    except:\n",
    "        return \"N/A\"\n",
    "    \n",
    "    return \"N/A\""
   ]
  },
  {
   "cell_type": "code",
   "execution_count": 10,
   "metadata": {
    "collapsed": true
   },
   "outputs": [],
   "source": [
    "with open(\"../data/final_names.txt\") as f:\n",
    "    names = f.readlines()"
   ]
  },
  {
   "cell_type": "code",
   "execution_count": 16,
   "metadata": {},
   "outputs": [],
   "source": [
    "i = 0\n",
    "for filename in names:\n",
    "    filename = filename.strip().replace(\"\\\\\", \"\")\n",
    "    with open(\"../data/{}\".format(filename), encoding=\"ISO-8859-1\") as f:\n",
    "        text = f.read()\n",
    "        if text.find(\"STATEMENT OF\") != -1:\n",
    "            i += 1"
   ]
  },
  {
   "cell_type": "code",
   "execution_count": 17,
   "metadata": {},
   "outputs": [
    {
     "name": "stdout",
     "output_type": "stream",
     "text": [
      "0.7970297029702971\n"
     ]
    }
   ],
   "source": [
    "print(i/len(names))"
   ]
  },
  {
   "cell_type": "markdown",
   "metadata": {},
   "source": [
    "<h2>Data Exploration</h2>"
   ]
  },
  {
   "cell_type": "code",
   "execution_count": 9,
   "metadata": {},
   "outputs": [
    {
     "data": {
      "text/plain": [
       "['100th/Senate/Select\\\\ Committee\\\\ on\\\\ Indian\\\\ Affairs/1.txt\\n',\n",
       " '102th/House/Committee\\\\ on\\\\ Veterans\\\\ Affairs/1.txt\\n',\n",
       " '103th/House/Committee\\\\ on\\\\ Veterans\\\\ Affairs/10.txt\\n',\n",
       " '103th/House/Committee\\\\ on\\\\ Veterans\\\\ Affairs/11.txt\\n',\n",
       " '103th/House/Committee\\\\ on\\\\ Veterans\\\\ Affairs/12.txt\\n',\n",
       " '103th/House/Committee\\\\ on\\\\ Veterans\\\\ Affairs/13.txt\\n',\n",
       " '103th/House/Committee\\\\ on\\\\ Veterans\\\\ Affairs/14.txt\\n',\n",
       " '103th/House/Committee\\\\ on\\\\ Veterans\\\\ Affairs/15.txt\\n',\n",
       " '103th/House/Committee\\\\ on\\\\ Veterans\\\\ Affairs/16.txt\\n',\n",
       " '103th/House/Committee\\\\ on\\\\ Veterans\\\\ Affairs/17.txt\\n']"
      ]
     },
     "execution_count": 9,
     "metadata": {},
     "output_type": "execute_result"
    }
   ],
   "source": [
    "names[:10]"
   ]
  },
  {
   "cell_type": "code",
   "execution_count": 70,
   "metadata": {},
   "outputs": [
    {
     "name": "stdout",
     "output_type": "stream",
     "text": [
      "109th/House/Committee on Financial Services/105.txt 7594\n",
      "109th/House/Committee on Financial Services/106.txt 7595\n",
      "109th/House/Committee on Financial Services/107.txt 7596\n",
      "109th/House/Committee on Financial Services/108.txt 7597\n",
      "109th/House/Committee on Financial Services/109.txt 7598\n",
      "109th/House/Committee on Financial Services/10.txt 7599\n",
      "109th/House/Committee on Financial Services/110.txt 7600\n",
      "109th/House/Committee on Financial Services/111.txt 7601\n",
      "109th/House/Committee on Financial Services/112.txt 7602\n",
      "109th/House/Committee on Financial Services/113.txt 7603\n",
      "109th/House/Committee on Financial Services/114.txt 7604\n",
      "109th/House/Committee on Financial Services/115.txt 7605\n",
      "109th/House/Committee on Financial Services/116.txt 7606\n",
      "109th/House/Committee on Financial Services/117.txt 7607\n",
      "109th/House/Committee on Financial Services/118.txt 7608\n",
      "109th/House/Committee on Financial Services/119.txt 7609\n",
      "109th/House/Committee on Financial Services/11.txt 7610\n",
      "109th/House/Committee on Financial Services/120.txt 7611\n",
      "109th/House/Committee on Financial Services/121.txt 7612\n",
      "109th/House/Committee on Financial Services/122.txt 7613\n",
      "109th/House/Committee on Financial Services/123.txt 7614\n",
      "109th/House/Committee on Financial Services/124.txt 7615\n",
      "109th/House/Committee on Financial Services/125.txt 7616\n",
      "109th/House/Committee on Financial Services/12.txt 7617\n",
      "109th/House/Committee on Financial Services/13.txt 7618\n",
      "109th/House/Committee on Financial Services/14.txt 7619\n",
      "109th/House/Committee on Financial Services/15.txt 7620\n",
      "109th/House/Committee on Financial Services/16.txt 7621\n",
      "109th/House/Committee on Financial Services/17.txt 7622\n",
      "109th/House/Committee on Financial Services/18.txt 7623\n",
      "109th/House/Committee on Financial Services/19.txt 7624\n",
      "109th/House/Committee on Financial Services/1.txt 7625\n",
      "109th/House/Committee on Financial Services/20.txt 7626\n",
      "109th/House/Committee on Financial Services/21.txt 7627\n",
      "109th/House/Committee on Financial Services/22.txt 7628\n",
      "109th/House/Committee on Financial Services/23.txt 7629\n",
      "109th/House/Committee on Financial Services/24.txt 7630\n",
      "109th/House/Committee on Financial Services/25.txt 7631\n",
      "109th/House/Committee on Financial Services/26.txt 7632\n",
      "109th/House/Committee on Financial Services/27.txt 7633\n",
      "109th/House/Committee on Financial Services/28.txt 7634\n",
      "109th/House/Committee on Financial Services/29.txt 7635\n",
      "109th/House/Committee on Financial Services/2.txt 7636\n",
      "109th/House/Committee on Financial Services/30.txt 7637\n",
      "109th/House/Committee on Financial Services/31.txt 7638\n",
      "109th/House/Committee on Financial Services/32.txt 7639\n",
      "109th/House/Committee on Financial Services/33.txt 7640\n",
      "109th/House/Committee on Financial Services/34.txt 7641\n",
      "109th/House/Committee on Financial Services/35.txt 7642\n",
      "109th/House/Committee on Financial Services/36.txt 7643\n",
      "109th/House/Committee on Financial Services/37.txt 7644\n",
      "109th/House/Committee on Financial Services/38.txt 7645\n",
      "109th/House/Committee on Financial Services/39.txt 7646\n",
      "109th/House/Committee on Financial Services/3.txt 7647\n",
      "109th/House/Committee on Financial Services/40.txt 7648\n",
      "109th/House/Committee on Financial Services/41.txt 7649\n",
      "109th/House/Committee on Financial Services/42.txt 7650\n",
      "109th/House/Committee on Financial Services/43.txt 7651\n",
      "109th/House/Committee on Financial Services/44.txt 7652\n",
      "109th/House/Committee on Financial Services/45.txt 7653\n",
      "109th/House/Committee on Financial Services/46.txt 7654\n",
      "109th/House/Committee on Financial Services/47.txt 7655\n",
      "109th/House/Committee on Financial Services/48.txt 7656\n",
      "109th/House/Committee on Financial Services/49.txt 7657\n",
      "109th/House/Committee on Financial Services/4.txt 7658\n",
      "109th/House/Committee on Financial Services/50.txt 7659\n",
      "109th/House/Committee on Financial Services/51.txt 7660\n",
      "109th/House/Committee on Financial Services/52.txt 7661\n",
      "109th/House/Committee on Financial Services/53.txt 7662\n",
      "109th/House/Committee on Financial Services/54.txt 7663\n",
      "109th/House/Committee on Financial Services/55.txt 7664\n",
      "109th/House/Committee on Financial Services/56.txt 7665\n",
      "109th/House/Committee on Financial Services/57.txt 7666\n",
      "109th/House/Committee on Financial Services/58.txt 7667\n",
      "109th/House/Committee on Financial Services/59.txt 7668\n",
      "109th/House/Committee on Financial Services/5.txt 7669\n",
      "109th/House/Committee on Financial Services/60.txt 7670\n",
      "109th/House/Committee on Financial Services/61.txt 7671\n",
      "109th/House/Committee on Financial Services/62.txt 7672\n",
      "109th/House/Committee on Financial Services/63.txt 7673\n",
      "109th/House/Committee on Financial Services/64.txt 7674\n",
      "109th/House/Committee on Financial Services/65.txt 7675\n",
      "109th/House/Committee on Financial Services/66.txt 7676\n",
      "109th/House/Committee on Financial Services/67.txt 7677\n",
      "109th/House/Committee on Financial Services/68.txt 7678\n",
      "109th/House/Committee on Financial Services/69.txt 7679\n",
      "109th/House/Committee on Financial Services/6.txt 7680\n",
      "109th/House/Committee on Financial Services/70.txt 7681\n",
      "109th/House/Committee on Financial Services/71.txt 7682\n",
      "109th/House/Committee on Financial Services/72.txt 7683\n",
      "109th/House/Committee on Financial Services/73.txt 7684\n",
      "109th/House/Committee on Financial Services/74.txt 7685\n",
      "109th/House/Committee on Financial Services/75.txt 7686\n",
      "109th/House/Committee on Financial Services/76.txt 7687\n",
      "109th/House/Committee on Financial Services/77.txt 7688\n",
      "109th/House/Committee on Financial Services/78.txt 7689\n",
      "109th/House/Committee on Financial Services/79.txt 7690\n",
      "109th/House/Committee on Financial Services/7.txt 7691\n",
      "109th/House/Committee on Financial Services/80.txt 7692\n",
      "109th/House/Committee on Financial Services/81.txt 7693\n",
      "109th/House/Committee on Financial Services/82.txt 7694\n"
     ]
    }
   ],
   "source": [
    "j = 7594\n",
    "i = j\n",
    "count = 0\n",
    "for filename in names[j:]:\n",
    "    filename = filename.strip().replace(\"\\\\\", \"\")\n",
    "    with open(\"../data/{}\".format(filename), encoding=\"ISO-8859-1\") as f:\n",
    "        text = f.read()\n",
    "        if text.lower().find(\"witness\\n\") != -1 or text.lower().find(\"witnesses\\n\") != -1:\n",
    "            print(filename, i)\n",
    "            count += 1\n",
    "        if count > 100:\n",
    "            break\n",
    "    i += 1"
   ]
  },
  {
   "cell_type": "code",
   "execution_count": 13,
   "metadata": {
    "collapsed": true
   },
   "outputs": [],
   "source": [
    "def has_witness_table(filename):\n",
    "    with open(\"../data/{}\".format(filename), encoding=\"ISO-8859-1\") as f:\n",
    "        text = f.read()\n",
    "        text = text[text.find(\"WITNESSES\\n\"):]\n",
    "        lines = text.split(\"\\n\")\n",
    "        for l in lines[:5]:\n",
    "            if l.find(\"....\") != -1:\n",
    "                return True\n",
    "        return False"
   ]
  },
  {
   "cell_type": "code",
   "execution_count": 14,
   "metadata": {
    "collapsed": true
   },
   "outputs": [],
   "source": [
    "def has_witness_statement_table(filename):\n",
    "    with open(\"../data/{}\".format(filename), encoding=\"ISO-8859-1\") as f:\n",
    "        text = f.read()\n",
    "        text = text[text.lower().find(\"statement of witness\"):]\n",
    "        lines = text.split(\"\\n\")\n",
    "        for l in lines[:5]:\n",
    "            if l.find(\"....\") != -1:\n",
    "                return True\n",
    "        return False"
   ]
  },
  {
   "cell_type": "code",
   "execution_count": 9,
   "metadata": {},
   "outputs": [
    {
     "data": {
      "text/plain": [
       "True"
      ]
     },
     "execution_count": 9,
     "metadata": {},
     "output_type": "execute_result"
    }
   ],
   "source": [
    "has_witness_table(\"109th/House/Committee on Financial Services/76.txt\")"
   ]
  },
  {
   "cell_type": "code",
   "execution_count": 11,
   "metadata": {},
   "outputs": [],
   "source": [
    "i = 0\n",
    "for filename in names:\n",
    "    filename = filename.strip().replace(\"\\\\\", \"\")\n",
    "    if has_witness_table(filename):\n",
    "        i += 1"
   ]
  },
  {
   "cell_type": "code",
   "execution_count": 12,
   "metadata": {},
   "outputs": [
    {
     "name": "stdout",
     "output_type": "stream",
     "text": [
      "0.3292852722772277\n"
     ]
    }
   ],
   "source": [
    "print(i/len(names))"
   ]
  },
  {
   "cell_type": "code",
   "execution_count": 15,
   "metadata": {
    "collapsed": true
   },
   "outputs": [],
   "source": [
    "i = 0\n",
    "for filename in names:\n",
    "    filename = filename.strip().replace(\"\\\\\", \"\")\n",
    "    if has_witness_statement_table(filename):\n",
    "        i += 1\n",
    "        break"
   ]
  },
  {
   "cell_type": "code",
   "execution_count": 16,
   "metadata": {},
   "outputs": [
    {
     "name": "stdout",
     "output_type": "stream",
     "text": [
      "0.05341120049504951\n"
     ]
    }
   ],
   "source": [
    "print(i/len(names))"
   ]
  },
  {
   "cell_type": "code",
   "execution_count": null,
   "metadata": {
    "collapsed": true
   },
   "outputs": [],
   "source": []
  }
 ],
 "metadata": {
  "anaconda-cloud": {},
  "kernelspec": {
   "display_name": "Python 3",
   "language": "python",
   "name": "python3"
  },
  "language_info": {
   "codemirror_mode": {
    "name": "ipython",
    "version": 3
   },
   "file_extension": ".py",
   "mimetype": "text/x-python",
   "name": "python",
   "nbconvert_exporter": "python",
   "pygments_lexer": "ipython3",
   "version": "3.6.1"
  }
 },
 "nbformat": 4,
 "nbformat_minor": 1
}
