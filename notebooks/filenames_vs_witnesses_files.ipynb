{
 "cells": [
  {
   "cell_type": "code",
   "execution_count": 23,
   "metadata": {},
   "outputs": [],
   "source": [
    "with open('../scripts/final_names.txt') as f:\n",
    "    filenames=f.readlines()\n",
    "    filenames=[x.strip() for x in filenames]"
   ]
  },
  {
   "cell_type": "code",
   "execution_count": 24,
   "metadata": {
    "collapsed": true
   },
   "outputs": [],
   "source": [
    "with open('witnesses_files.txt') as f:\n",
    "    witnesses_files=f.readlines()\n",
    "    witnesses_files=[x.strip() for x in witnesses_files]"
   ]
  },
  {
   "cell_type": "code",
   "execution_count": 25,
   "metadata": {
    "collapsed": true
   },
   "outputs": [],
   "source": [
    "import numpy as np"
   ]
  },
  {
   "cell_type": "code",
   "execution_count": 26,
   "metadata": {
    "collapsed": true
   },
   "outputs": [],
   "source": [
    "inter=np.intersect1d(filenames, witnesses_files)"
   ]
  },
  {
   "cell_type": "code",
   "execution_count": 27,
   "metadata": {},
   "outputs": [
    {
     "data": {
      "text/plain": [
       "-11661"
      ]
     },
     "execution_count": 27,
     "metadata": {},
     "output_type": "execute_result"
    }
   ],
   "source": [
    "len(inter)-len(filenames)"
   ]
  },
  {
   "cell_type": "code",
   "execution_count": 28,
   "metadata": {},
   "outputs": [
    {
     "data": {
      "text/plain": [
       "0"
      ]
     },
     "execution_count": 28,
     "metadata": {},
     "output_type": "execute_result"
    }
   ],
   "source": [
    "len(inter)-len(witnesses_files)"
   ]
  },
  {
   "cell_type": "code",
   "execution_count": 29,
   "metadata": {},
   "outputs": [
    {
     "data": {
      "text/plain": [
       "14195"
      ]
     },
     "execution_count": 29,
     "metadata": {},
     "output_type": "execute_result"
    }
   ],
   "source": [
    "len(witnesses_files)"
   ]
  },
  {
   "cell_type": "code",
   "execution_count": 30,
   "metadata": {},
   "outputs": [
    {
     "data": {
      "text/plain": [
       "25856"
      ]
     },
     "execution_count": 30,
     "metadata": {},
     "output_type": "execute_result"
    }
   ],
   "source": [
    "len(filenames)"
   ]
  },
  {
   "cell_type": "code",
   "execution_count": 36,
   "metadata": {},
   "outputs": [],
   "source": [
    "faltantes=list(set(filenames)-set(witnesses_files))"
   ]
  },
  {
   "cell_type": "code",
   "execution_count": 38,
   "metadata": {},
   "outputs": [
    {
     "data": {
      "text/plain": [
       "11661"
      ]
     },
     "execution_count": 38,
     "metadata": {},
     "output_type": "execute_result"
    }
   ],
   "source": [
    "len(faltantes)"
   ]
  },
  {
   "cell_type": "code",
   "execution_count": 39,
   "metadata": {
    "collapsed": true
   },
   "outputs": [],
   "source": [
    "import re"
   ]
  },
  {
   "cell_type": "code",
   "execution_count": 48,
   "metadata": {},
   "outputs": [],
   "source": [
    "participants=0\n",
    "for filename in faltantes:\n",
    "    with open(\"../data/{}\".format(filename), encoding=\"ISO-8859-1\") as f:\n",
    "        text = f.read()\n",
    "        if text.find('P A R T I C I P A N T S')>0:\n",
    "            participants+=1\n",
    "        elif text.find('Participants')>0:\n",
    "            participants+=1\n",
    "        elif text.find('PARTICIPANTS')>0:\n",
    "            participants+=1\n",
    "        "
   ]
  },
  {
   "cell_type": "code",
   "execution_count": 49,
   "metadata": {},
   "outputs": [
    {
     "data": {
      "text/plain": [
       "735"
      ]
     },
     "execution_count": 49,
     "metadata": {},
     "output_type": "execute_result"
    }
   ],
   "source": [
    "participants"
   ]
  },
  {
   "cell_type": "code",
   "execution_count": 51,
   "metadata": {
    "collapsed": true
   },
   "outputs": [],
   "source": [
    "def es_tipo_witness(texto):\n",
    "    out=False\n",
    "    texto=quitar_tabla(texto)\n",
    "    puntos=texto.find('WITNESS')\n",
    "    if puntos != -1:\n",
    "        out=True\n",
    "    return out\n",
    "\n",
    "def hay_statement_of(texto):\n",
    "    out=False\n",
    "    puntos=texto.find('STATEMENT OF')\n",
    "    return puntos\n",
    "\n",
    "def hay_tabla(texto):\n",
    "    out=False\n",
    "    puntos=texto.find('.....')\n",
    "    if puntos != -1:\n",
    "        bloque=\"\".join(texto[:puntos].split(' '))\n",
    "        if bloque.find('CONTENTS')!=-1:\n",
    "            out=True\n",
    "    return out\n",
    "        \n",
    "def mantener_tabla(texto):\n",
    "    temp = texto\n",
    "    out=\"\"\n",
    "    finished = False\n",
    "    while not finished:\n",
    "        definidor=temp.find('.....')\n",
    "        if definidor!=-1:\n",
    "            out += temp[:definidor+1]\n",
    "            temp = temp[definidor+1:]\n",
    "        else:\n",
    "            finished = True\n",
    "    return out\n",
    "\n",
    "def quitar_tabla(texto):\n",
    "    temp = texto\n",
    "    finished = False\n",
    "    while not finished:\n",
    "        if temp.find('.....')!=-1:\n",
    "            temp = temp[temp.find('.....')+1:]\n",
    "        else:\n",
    "            finished = True\n",
    "    return temp\n",
    "\n",
    "def hay_tabla_tipo1(texto):\n",
    "    if hay_tabla(texto):\n",
    "        tabla = mantener_tabla(texto)\n",
    "        return tabla.lower().find(\"statement of witness\") != -1\n",
    "    return False\n",
    "\n",
    "def hay_tabla_tipo2(texto):\n",
    "    if hay_tabla(texto):\n",
    "        tabla = mantener_tabla(texto)\n",
    "        return tabla.find(\"WITNESS\") != -1\n",
    "    return False\n",
    "\n",
    "def has_witnesses(texto):\n",
    "    if hay_tabla_tipo1(texto) or hay_tabla_tipo2(texto):\n",
    "        return True\n",
    "    elif hay_statement_of(texto) != -1:\n",
    "        indice = hay_statement_of(texto)\n",
    "        paragraph = texto[indice-200:indice]\n",
    "        return (paragraph.lower().find(\"witness\") != -1) or (paragraph.lower().find(\"testimony\") != -1)\n",
    "    else:\n",
    "        sin_tabla = quitar_tabla(texto)\n",
    "        return sin_tabla.find(\"WITNESS\") != -1"
   ]
  },
  {
   "cell_type": "code",
   "execution_count": 58,
   "metadata": {},
   "outputs": [],
   "source": [
    "for filename in faltantes:\n",
    "    with open(\"witnesses_files_faltntes.txt\", 'a') as g:\n",
    "        with open(\"../data/{}\".format(filename), encoding=\"ISO-8859-1\") as f:\n",
    "            text = f.read()\n",
    "            if text.lower().find('witness')!=-1:\n",
    "                print(filename, file=g)"
   ]
  },
  {
   "cell_type": "code",
   "execution_count": null,
   "metadata": {
    "collapsed": true
   },
   "outputs": [],
   "source": []
  }
 ],
 "metadata": {
  "kernelspec": {
   "display_name": "Python 3",
   "language": "python",
   "name": "python3"
  },
  "language_info": {
   "codemirror_mode": {
    "name": "ipython",
    "version": 3
   },
   "file_extension": ".py",
   "mimetype": "text/x-python",
   "name": "python",
   "nbconvert_exporter": "python",
   "pygments_lexer": "ipython3",
   "version": "3.6.1"
  }
 },
 "nbformat": 4,
 "nbformat_minor": 2
}
